{
  "cells": [
    {
      "cell_type": "markdown",
      "metadata": {
        "id": "view-in-github",
        "colab_type": "text"
      },
      "source": [
        "<a href=\"https://colab.research.google.com/github/nimish1402/-Comparative-analysis-for-Alzheimer-s-Disease-Prediction-/blob/main/AD_classification_CNN.ipynb\" target=\"_parent\"><img src=\"https://colab.research.google.com/assets/colab-badge.svg\" alt=\"Open In Colab\"/></a>"
      ]
    },
    {
      "cell_type": "markdown",
      "id": "834fbf4e",
      "metadata": {
        "papermill": {
          "duration": 0.00839,
          "end_time": "2024-02-24T03:26:30.105370",
          "exception": false,
          "start_time": "2024-02-24T03:26:30.096980",
          "status": "completed"
        },
        "tags": [],
        "id": "834fbf4e"
      },
      "source": [
        "# 1. Import Libraries and Dataset"
      ]
    },
    {
      "cell_type": "code",
      "source": [],
      "metadata": {
        "id": "qFjCPOrZKx3n"
      },
      "id": "qFjCPOrZKx3n",
      "execution_count": null,
      "outputs": []
    },
    {
      "cell_type": "code",
      "execution_count": null,
      "id": "8ae67c8a",
      "metadata": {
        "execution": {
          "iopub.execute_input": "2024-02-24T03:26:30.124956Z",
          "iopub.status.busy": "2024-02-24T03:26:30.124648Z",
          "iopub.status.idle": "2024-02-24T03:26:44.556413Z",
          "shell.execute_reply": "2024-02-24T03:26:44.555605Z"
        },
        "papermill": {
          "duration": 14.443006,
          "end_time": "2024-02-24T03:26:44.558591",
          "exception": false,
          "start_time": "2024-02-24T03:26:30.115585",
          "status": "completed"
        },
        "tags": [],
        "id": "8ae67c8a"
      },
      "outputs": [],
      "source": [
        "import numpy as np\n",
        "import pandas as pd\n",
        "import os\n",
        "import torch\n",
        "import torchvision\n",
        "import torch.nn as nn\n",
        "import torchvision.datasets as datasets\n",
        "import torchvision.transforms as transforms\n",
        "import torchvision.transforms.v2 as v2\n",
        "import torch.nn.functional as F\n",
        "from torch.utils.data import DataLoader, Dataset\n",
        "from torchvision.datasets import ImageFolder\n",
        "import torch.optim as optim\n",
        "from PIL import Image\n",
        "from torchvision import models\n",
        "from torch.utils.data.sampler import SubsetRandomSampler\n",
        "from torch.autograd import Variable\n",
        "import torch.nn.functional as F\n",
        "\n",
        "\n",
        "\n",
        "from sklearn.model_selection import train_test_split\n",
        "from tqdm import tqdm\n",
        "import matplotlib.pyplot as plt\n",
        "import random\n",
        "from pathlib import Path\n",
        "from collections import Counter\n",
        "from typing import Optional"
      ]
    },
    {
      "cell_type": "code",
      "execution_count": null,
      "id": "5e6bd0ae",
      "metadata": {
        "execution": {
          "iopub.execute_input": "2024-02-24T03:26:44.575806Z",
          "iopub.status.busy": "2024-02-24T03:26:44.575355Z",
          "iopub.status.idle": "2024-02-24T03:26:44.654534Z",
          "shell.execute_reply": "2024-02-24T03:26:44.653718Z"
        },
        "papermill": {
          "duration": 0.089845,
          "end_time": "2024-02-24T03:26:44.656465",
          "exception": false,
          "start_time": "2024-02-24T03:26:44.566620",
          "status": "completed"
        },
        "tags": [],
        "id": "5e6bd0ae"
      },
      "outputs": [],
      "source": [
        "device = torch.device(\"cuda\" if torch.cuda.is_available() else \"cpu\")"
      ]
    },
    {
      "cell_type": "code",
      "source": [
        "!mkdir -p ~/.kaggle\n",
        "!cp kaggle.json ~/.kaggle/"
      ],
      "metadata": {
        "id": "wh2sY--PhAVs"
      },
      "id": "wh2sY--PhAVs",
      "execution_count": null,
      "outputs": []
    },
    {
      "cell_type": "code",
      "source": [
        "!kaggle datasets download -d tourist55/alzheimers-dataset-4-class-of-images"
      ],
      "metadata": {
        "id": "oCMdqLLkhIao"
      },
      "id": "oCMdqLLkhIao",
      "execution_count": null,
      "outputs": []
    },
    {
      "cell_type": "code",
      "source": [
        "import zipfile\n",
        "zip_ref = zipfile.ZipFile(\"/content/alzheimers-dataset-4-class-of-images.zip\")\n",
        "zip_ref.extractall('/content')\n",
        "zip_ref.close()"
      ],
      "metadata": {
        "id": "jOXYlBo4hY8d"
      },
      "id": "jOXYlBo4hY8d",
      "execution_count": null,
      "outputs": []
    },
    {
      "cell_type": "code",
      "execution_count": null,
      "id": "109af0b0",
      "metadata": {
        "execution": {
          "iopub.execute_input": "2024-02-24T03:26:44.673316Z",
          "iopub.status.busy": "2024-02-24T03:26:44.673001Z",
          "iopub.status.idle": "2024-02-24T03:26:44.677303Z",
          "shell.execute_reply": "2024-02-24T03:26:44.676565Z"
        },
        "papermill": {
          "duration": 0.014765,
          "end_time": "2024-02-24T03:26:44.679109",
          "exception": false,
          "start_time": "2024-02-24T03:26:44.664344",
          "status": "completed"
        },
        "tags": [],
        "id": "109af0b0"
      },
      "outputs": [],
      "source": [
        "dir_path = '/content/Alzheimer_s Dataset'\n",
        "test_ds = os.path.join(dir_path, 'test')\n",
        "train_ds = os.path.join(dir_path, 'train')"
      ]
    },
    {
      "cell_type": "code",
      "execution_count": null,
      "id": "6ca2c0ab",
      "metadata": {
        "execution": {
          "iopub.execute_input": "2024-02-24T03:26:44.695797Z",
          "iopub.status.busy": "2024-02-24T03:26:44.695549Z",
          "iopub.status.idle": "2024-02-24T03:26:48.254101Z",
          "shell.execute_reply": "2024-02-24T03:26:48.253241Z"
        },
        "papermill": {
          "duration": 3.569061,
          "end_time": "2024-02-24T03:26:48.256151",
          "exception": false,
          "start_time": "2024-02-24T03:26:44.687090",
          "status": "completed"
        },
        "tags": [],
        "id": "6ca2c0ab"
      },
      "outputs": [],
      "source": [
        "train = ImageFolder(train_ds)\n",
        "test = ImageFolder(test_ds)\n",
        "\n",
        "class_map = {0:'Mild Demented', 1:'Moderate Demented', 2:'Non Demented', 3:'Very Mild Demented'}\n",
        "class_dict = dict(Counter(train.targets))\n",
        "class_dict"
      ]
    },
    {
      "cell_type": "markdown",
      "id": "65bef542",
      "metadata": {
        "papermill": {
          "duration": 0.008534,
          "end_time": "2024-02-24T03:26:48.272751",
          "exception": false,
          "start_time": "2024-02-24T03:26:48.264217",
          "status": "completed"
        },
        "tags": [],
        "id": "65bef542"
      },
      "source": [
        "### 2.3 Visualise random images"
      ]
    },
    {
      "cell_type": "markdown",
      "source": [],
      "metadata": {
        "id": "6AuSLe1hxjXl"
      },
      "id": "6AuSLe1hxjXl"
    },
    {
      "cell_type": "code",
      "execution_count": null,
      "id": "8d6408c4",
      "metadata": {
        "execution": {
          "iopub.execute_input": "2024-02-24T03:26:48.289749Z",
          "iopub.status.busy": "2024-02-24T03:26:48.289483Z",
          "iopub.status.idle": "2024-02-24T03:26:49.112977Z",
          "shell.execute_reply": "2024-02-24T03:26:49.112081Z"
        },
        "papermill": {
          "duration": 0.836018,
          "end_time": "2024-02-24T03:26:49.116744",
          "exception": false,
          "start_time": "2024-02-24T03:26:48.280726",
          "status": "completed"
        },
        "tags": [],
        "id": "8d6408c4"
      },
      "outputs": [],
      "source": [
        "image_paths = []\n",
        "for path in train.imgs:\n",
        "    image_paths.append(path[0])\n",
        "shuffled = image_paths.copy()\n",
        "random.shuffle(shuffled)\n",
        "plt.figure(figsize=(5,5))\n",
        "for i, path in enumerate(shuffled):\n",
        "    if i>3: break\n",
        "    plt.subplot(2,2,i+1)\n",
        "    img = Image.open(path)\n",
        "    image_class = Path(path).parent.stem\n",
        "    plt.title(image_class)\n",
        "    plt.imshow(img)\n",
        "plt.tight_layout()"
      ]
    },
    {
      "cell_type": "markdown",
      "id": "0812aef1",
      "metadata": {
        "papermill": {
          "duration": 0.009958,
          "end_time": "2024-02-24T03:26:49.136898",
          "exception": false,
          "start_time": "2024-02-24T03:26:49.126940",
          "status": "completed"
        },
        "tags": [],
        "id": "0812aef1"
      },
      "source": [
        "# 3. Custom Dataset"
      ]
    },
    {
      "cell_type": "code",
      "execution_count": null,
      "id": "7146d965",
      "metadata": {
        "execution": {
          "iopub.execute_input": "2024-02-24T03:26:49.158343Z",
          "iopub.status.busy": "2024-02-24T03:26:49.158045Z",
          "iopub.status.idle": "2024-02-24T03:26:49.163857Z",
          "shell.execute_reply": "2024-02-24T03:26:49.163068Z"
        },
        "papermill": {
          "duration": 0.018913,
          "end_time": "2024-02-24T03:26:49.165709",
          "exception": false,
          "start_time": "2024-02-24T03:26:49.146796",
          "status": "completed"
        },
        "tags": [],
        "id": "7146d965"
      },
      "outputs": [],
      "source": [
        "class ImageLoader(Dataset):\n",
        "    def __init__(self, dataset, transform=None):\n",
        "        self.dataset = dataset\n",
        "        self.transform = transform\n",
        "\n",
        "    def __len__(self):\n",
        "        return len(self.dataset)\n",
        "\n",
        "    def __getitem__(self, idx):\n",
        "        image = Image.open(self.dataset[idx][0])\n",
        "        class_category = self.dataset[idx][1]\n",
        "        if self.transform:\n",
        "            image = self.transform(image)\n",
        "        return image, class_category"
      ]
    },
    {
      "cell_type": "markdown",
      "id": "361362ba",
      "metadata": {
        "papermill": {
          "duration": 0.010162,
          "end_time": "2024-02-24T03:26:49.186072",
          "exception": false,
          "start_time": "2024-02-24T03:26:49.175910",
          "status": "completed"
        },
        "tags": [],
        "id": "361362ba"
      },
      "source": [
        "### 3.1 Shape and Channels of Image"
      ]
    },
    {
      "cell_type": "code",
      "execution_count": null,
      "id": "dcf17baa",
      "metadata": {
        "execution": {
          "iopub.execute_input": "2024-02-24T03:26:49.207098Z",
          "iopub.status.busy": "2024-02-24T03:26:49.206819Z",
          "iopub.status.idle": "2024-02-24T03:26:49.217008Z",
          "shell.execute_reply": "2024-02-24T03:26:49.216165Z"
        },
        "papermill": {
          "duration": 0.022891,
          "end_time": "2024-02-24T03:26:49.218943",
          "exception": false,
          "start_time": "2024-02-24T03:26:49.196052",
          "status": "completed"
        },
        "tags": [],
        "id": "dcf17baa"
      },
      "outputs": [],
      "source": [
        "transforms.functional.get_image_size(Image.open(train.imgs[1][0]))"
      ]
    },
    {
      "cell_type": "code",
      "execution_count": null,
      "id": "c8a45283",
      "metadata": {
        "execution": {
          "iopub.execute_input": "2024-02-24T03:26:49.240268Z",
          "iopub.status.busy": "2024-02-24T03:26:49.239973Z",
          "iopub.status.idle": "2024-02-24T03:26:49.246358Z",
          "shell.execute_reply": "2024-02-24T03:26:49.245588Z"
        },
        "papermill": {
          "duration": 0.018962,
          "end_time": "2024-02-24T03:26:49.248113",
          "exception": false,
          "start_time": "2024-02-24T03:26:49.229151",
          "status": "completed"
        },
        "tags": [],
        "id": "c8a45283"
      },
      "outputs": [],
      "source": [
        "torchvision.transforms.functional.get_image_num_channels(Image.open(train.imgs[1][0]))"
      ]
    },
    {
      "cell_type": "code",
      "execution_count": null,
      "id": "1430dd87",
      "metadata": {
        "execution": {
          "iopub.execute_input": "2024-02-24T03:26:49.269647Z",
          "iopub.status.busy": "2024-02-24T03:26:49.269391Z",
          "iopub.status.idle": "2024-02-24T03:26:49.277490Z",
          "shell.execute_reply": "2024-02-24T03:26:49.276599Z"
        },
        "papermill": {
          "duration": 0.021172,
          "end_time": "2024-02-24T03:26:49.279491",
          "exception": false,
          "start_time": "2024-02-24T03:26:49.258319",
          "status": "completed"
        },
        "tags": [],
        "id": "1430dd87",
        "colab": {
          "base_uri": "https://localhost:8080/"
        },
        "outputId": "86989341-4937-4755-9c04-a176076d2dad"
      },
      "outputs": [
        {
          "output_type": "stream",
          "name": "stderr",
          "text": [
            "/usr/local/lib/python3.10/dist-packages/torchvision/transforms/v2/_deprecated.py:41: UserWarning: The transform `ToTensor()` is deprecated and will be removed in a future release. Instead, please use `v2.Compose([v2.ToImage(), v2.ToDtype(torch.float32, scale=True)])`.\n",
            "  warnings.warn(\n"
          ]
        }
      ],
      "source": [
        "train_transform = v2.Compose([\n",
        "                v2.Resize((128,128)),\n",
        "                v2.Grayscale(num_output_channels=1),\n",
        "                #v2.RandomHorizontalFlip(p=0.5), # randomly flip and rotate\n",
        "                #v2.ColorJitter(0.3,0.4,0.4,0.2),\n",
        "                #v2.RandomCrop(size=(128,128)),\n",
        "                v2.ToTensor(),\n",
        "                #v2.Normalize((0.425, 0.415, 0.405), (0.205, 0.205, 0.205))\n",
        "])\n",
        "\n",
        "test_transform = v2.Compose([\n",
        "                v2.Resize((128,128)),\n",
        "                v2.Grayscale(num_output_channels=1),\n",
        "                v2.ToTensor(),\n",
        "                #v2.Normalize((0.425, 0.415, 0.405), (0.205, 0.205, 0.205))\n",
        "])"
      ]
    },
    {
      "cell_type": "code",
      "execution_count": null,
      "id": "e1eab722",
      "metadata": {
        "execution": {
          "iopub.execute_input": "2024-02-24T03:26:49.301485Z",
          "iopub.status.busy": "2024-02-24T03:26:49.301242Z",
          "iopub.status.idle": "2024-02-24T03:26:49.305523Z",
          "shell.execute_reply": "2024-02-24T03:26:49.304721Z"
        },
        "papermill": {
          "duration": 0.017187,
          "end_time": "2024-02-24T03:26:49.307339",
          "exception": false,
          "start_time": "2024-02-24T03:26:49.290152",
          "status": "completed"
        },
        "tags": [],
        "id": "e1eab722"
      },
      "outputs": [],
      "source": [
        "train_data, train_label = train.imgs, train.targets\n",
        "test_data, test_label = test.imgs, test.targets\n",
        "\n",
        "#os.path.join(dir_path,train_data)\n",
        "train_dataset = ImageLoader(train_data, train_transform)\n",
        "test_dataset = ImageLoader(test_data, test_transform)\n"
      ]
    },
    {
      "cell_type": "code",
      "execution_count": null,
      "id": "23955763",
      "metadata": {
        "execution": {
          "iopub.execute_input": "2024-02-24T03:26:49.329350Z",
          "iopub.status.busy": "2024-02-24T03:26:49.329088Z",
          "iopub.status.idle": "2024-02-24T03:26:49.369472Z",
          "shell.execute_reply": "2024-02-24T03:26:49.368785Z"
        },
        "papermill": {
          "duration": 0.053493,
          "end_time": "2024-02-24T03:26:49.371352",
          "exception": false,
          "start_time": "2024-02-24T03:26:49.317859",
          "status": "completed"
        },
        "tags": [],
        "id": "23955763"
      },
      "outputs": [],
      "source": [
        "# Split the dataset into training and validation sets (80-20 split)\n",
        "train_size = int(0.8 * len(train_dataset))\n",
        "val_size = len(train_dataset) - train_size\n",
        "train_data, val_data= torch.utils.data.random_split(train_dataset, [train_size, val_size])"
      ]
    },
    {
      "cell_type": "code",
      "execution_count": null,
      "id": "53526481",
      "metadata": {
        "execution": {
          "iopub.execute_input": "2024-02-24T03:26:49.393300Z",
          "iopub.status.busy": "2024-02-24T03:26:49.393019Z",
          "iopub.status.idle": "2024-02-24T03:26:49.397507Z",
          "shell.execute_reply": "2024-02-24T03:26:49.396778Z"
        },
        "papermill": {
          "duration": 0.017428,
          "end_time": "2024-02-24T03:26:49.399287",
          "exception": false,
          "start_time": "2024-02-24T03:26:49.381859",
          "status": "completed"
        },
        "tags": [],
        "id": "53526481"
      },
      "outputs": [],
      "source": [
        "train_loader = DataLoader(train_data, batch_size=64)\n",
        "val_loader = DataLoader(val_data, batch_size=64)\n",
        "test_loader = DataLoader(test_dataset, batch_size=64, shuffle=True)"
      ]
    },
    {
      "cell_type": "code",
      "execution_count": null,
      "id": "bf6f4f72",
      "metadata": {
        "execution": {
          "iopub.execute_input": "2024-02-24T03:26:49.420979Z",
          "iopub.status.busy": "2024-02-24T03:26:49.420726Z",
          "iopub.status.idle": "2024-02-24T03:26:49.499856Z",
          "shell.execute_reply": "2024-02-24T03:26:49.499010Z"
        },
        "papermill": {
          "duration": 0.092226,
          "end_time": "2024-02-24T03:26:49.501812",
          "exception": false,
          "start_time": "2024-02-24T03:26:49.409586",
          "status": "completed"
        },
        "tags": [],
        "id": "bf6f4f72"
      },
      "outputs": [],
      "source": [
        "torchvision.transforms.functional.get_image_num_channels(next(iter(train_dataset))[0])"
      ]
    },
    {
      "cell_type": "markdown",
      "id": "f8a26619",
      "metadata": {
        "papermill": {
          "duration": 0.010134,
          "end_time": "2024-02-24T03:26:49.522953",
          "exception": false,
          "start_time": "2024-02-24T03:26:49.512819",
          "status": "completed"
        },
        "tags": [],
        "id": "f8a26619"
      },
      "source": [
        "# 4. Create a CNN"
      ]
    },
    {
      "cell_type": "code",
      "execution_count": null,
      "id": "ff2d1c98",
      "metadata": {
        "execution": {
          "iopub.execute_input": "2024-02-24T03:26:49.545320Z",
          "iopub.status.busy": "2024-02-24T03:26:49.544753Z",
          "iopub.status.idle": "2024-02-24T03:26:49.765312Z",
          "shell.execute_reply": "2024-02-24T03:26:49.764369Z"
        },
        "papermill": {
          "duration": 0.233965,
          "end_time": "2024-02-24T03:26:49.767534",
          "exception": false,
          "start_time": "2024-02-24T03:26:49.533569",
          "status": "completed"
        },
        "tags": [],
        "colab": {
          "base_uri": "https://localhost:8080/"
        },
        "id": "ff2d1c98",
        "outputId": "9caa8302-76a9-4773-ece4-03bfe8544481"
      },
      "outputs": [
        {
          "output_type": "stream",
          "name": "stdout",
          "text": [
            "Net(\n",
            "  (conv1): Conv2d(1, 16, kernel_size=(3, 3), stride=(1, 1), padding=(1, 1))\n",
            "  (conv2): Conv2d(16, 32, kernel_size=(3, 3), stride=(1, 1), padding=(1, 1))\n",
            "  (conv3): Conv2d(32, 64, kernel_size=(3, 3), stride=(1, 1), padding=(1, 1))\n",
            "  (conv4): Conv2d(64, 64, kernel_size=(3, 3), stride=(1, 1), padding=(1, 1))\n",
            "  (pool): MaxPool2d(kernel_size=2, stride=2, padding=0, dilation=1, ceil_mode=False)\n",
            "  (fc1): Linear(in_features=4096, out_features=64, bias=True)\n",
            "  (fc2): Linear(in_features=64, out_features=4, bias=True)\n",
            ")\n"
          ]
        }
      ],
      "source": [
        "# Create a neural net class\n",
        "class Net(nn.Module):\n",
        "\n",
        "\n",
        "    # Defining the Constructor\n",
        "    def __init__(self, num_classes=3):\n",
        "        super(Net, self).__init__()\n",
        "        self.conv1 = nn.Conv2d(in_channels=1, out_channels=16, kernel_size=3, stride=1, padding=1)\n",
        "        self.conv2 = nn.Conv2d(in_channels=16, out_channels=32, kernel_size=3, stride=1, padding=1)\n",
        "        self.conv3 = nn.Conv2d(in_channels=32, out_channels=64, kernel_size=3, stride=1, padding=1)\n",
        "        self.conv4 = nn.Conv2d(in_channels=64, out_channels=64, kernel_size=3, stride=1, padding=1)\n",
        "\n",
        "        self.pool = nn.MaxPool2d(kernel_size=2, stride=2)\n",
        "\n",
        "        self.fc1 = nn.Linear(in_features=4096, out_features=64)\n",
        "        self.fc2 = nn.Linear(in_features=64, out_features=num_classes)\n",
        "    def forward(self, x):\n",
        "        x = F.relu(self.pool(self.conv1(x)))\n",
        "        x = F.relu(self.pool(self.conv2(x)))\n",
        "        x = F.relu(self.pool(self.conv3(x)))\n",
        "        x = F.relu(self.pool(self.conv4(x)))\n",
        "\n",
        "        x = torch.flatten(x,1)\n",
        "        x = F.relu(self.fc1(x))\n",
        "        x = self.fc2(x)\n",
        "        return x\n",
        "\n",
        "model = Net(num_classes=4).to(device)\n",
        "\n",
        "print(model)"
      ]
    },
    {
      "cell_type": "code",
      "execution_count": null,
      "id": "f3deaf46",
      "metadata": {
        "execution": {
          "iopub.execute_input": "2024-02-24T03:26:49.793340Z",
          "iopub.status.busy": "2024-02-24T03:26:49.793037Z",
          "iopub.status.idle": "2024-02-24T03:26:49.798162Z",
          "shell.execute_reply": "2024-02-24T03:26:49.797361Z"
        },
        "papermill": {
          "duration": 0.021501,
          "end_time": "2024-02-24T03:26:49.800071",
          "exception": false,
          "start_time": "2024-02-24T03:26:49.778570",
          "status": "completed"
        },
        "tags": [],
        "id": "f3deaf46"
      },
      "outputs": [],
      "source": [
        "criterion = nn.CrossEntropyLoss()\n",
        "optimizer = optim.Adam(model.parameters(), lr=0.001)\n",
        "scheduler = torch.optim.lr_scheduler.MultiStepLR(optimizer, milestones=[6,10,15], gamma=0.001)"
      ]
    },
    {
      "cell_type": "markdown",
      "id": "2e56614d",
      "metadata": {
        "papermill": {
          "duration": 0.010223,
          "end_time": "2024-02-24T03:26:49.820915",
          "exception": false,
          "start_time": "2024-02-24T03:26:49.810692",
          "status": "completed"
        },
        "tags": [],
        "id": "2e56614d"
      },
      "source": [
        "# 5. Training"
      ]
    },
    {
      "cell_type": "code",
      "execution_count": null,
      "id": "fa48536f",
      "metadata": {
        "execution": {
          "iopub.execute_input": "2024-02-24T03:26:49.843010Z",
          "iopub.status.busy": "2024-02-24T03:26:49.842748Z",
          "iopub.status.idle": "2024-02-24T03:30:58.315618Z",
          "shell.execute_reply": "2024-02-24T03:30:58.314680Z"
        },
        "papermill": {
          "duration": 248.486392,
          "end_time": "2024-02-24T03:30:58.317739",
          "exception": false,
          "start_time": "2024-02-24T03:26:49.831347",
          "status": "completed"
        },
        "tags": [],
        "colab": {
          "base_uri": "https://localhost:8080/"
        },
        "id": "fa48536f",
        "outputId": "7e841ca1-a25e-4066-9773-52b6e2405d34"
      },
      "outputs": [
        {
          "output_type": "stream",
          "name": "stdout",
          "text": [
            "Epoch 1/30, Train Loss: 1.0680, Val Loss: 1.0698, Val Accuracy: 0.48097560975609754\n",
            "Epoch 2/30, Train Loss: 1.0301, Val Loss: 1.0578, Val Accuracy: 0.48097560975609754\n",
            "Epoch 3/30, Train Loss: 1.0226, Val Loss: 1.0379, Val Accuracy: 0.4995121951219512\n",
            "Epoch 4/30, Train Loss: 0.9863, Val Loss: 1.0157, Val Accuracy: 0.5082926829268293\n",
            "Epoch 5/30, Train Loss: 0.9416, Val Loss: 0.9412, Val Accuracy: 0.5453658536585366\n",
            "Epoch 6/30, Train Loss: 0.9093, Val Loss: 0.9188, Val Accuracy: 0.5590243902439025\n",
            "Epoch 7/30, Train Loss: 0.8856, Val Loss: 0.9004, Val Accuracy: 0.56\n",
            "Epoch 8/30, Train Loss: 0.8676, Val Loss: 0.8797, Val Accuracy: 0.5785365853658536\n",
            "Epoch 9/30, Train Loss: 0.8337, Val Loss: 0.8519, Val Accuracy: 0.5912195121951219\n",
            "Epoch 10/30, Train Loss: 0.8011, Val Loss: 0.8238, Val Accuracy: 0.6136585365853658\n",
            "Epoch 11/30, Train Loss: 0.7661, Val Loss: 0.8028, Val Accuracy: 0.6292682926829268\n",
            "Epoch 12/30, Train Loss: 0.7269, Val Loss: 0.7911, Val Accuracy: 0.6409756097560976\n",
            "Epoch 13/30, Train Loss: 0.6875, Val Loss: 0.7277, Val Accuracy: 0.6653658536585366\n",
            "Epoch 14/30, Train Loss: 0.6250, Val Loss: 0.7112, Val Accuracy: 0.6702439024390244\n",
            "Epoch 15/30, Train Loss: 0.5631, Val Loss: 0.6622, Val Accuracy: 0.7073170731707317\n",
            "Epoch 16/30, Train Loss: 0.5035, Val Loss: 0.6346, Val Accuracy: 0.7307317073170732\n",
            "Epoch 17/30, Train Loss: 0.4103, Val Loss: 0.5053, Val Accuracy: 0.7921951219512195\n",
            "Epoch 18/30, Train Loss: 0.3580, Val Loss: 0.5088, Val Accuracy: 0.8048780487804879\n",
            "Epoch 19/30, Train Loss: 0.2543, Val Loss: 0.4280, Val Accuracy: 0.8302439024390244\n",
            "Epoch 20/30, Train Loss: 0.2153, Val Loss: 0.4167, Val Accuracy: 0.8380487804878048\n",
            "Epoch 21/30, Train Loss: 0.1806, Val Loss: 0.3698, Val Accuracy: 0.8673170731707317\n",
            "Epoch 22/30, Train Loss: 0.1668, Val Loss: 0.3492, Val Accuracy: 0.8770731707317073\n",
            "Epoch 23/30, Train Loss: 0.1338, Val Loss: 0.3255, Val Accuracy: 0.8936585365853659\n",
            "Epoch 24/30, Train Loss: 0.1077, Val Loss: 0.2683, Val Accuracy: 0.9131707317073171\n",
            "Epoch 25/30, Train Loss: 0.0711, Val Loss: 0.3465, Val Accuracy: 0.8839024390243903\n",
            "Epoch 26/30, Train Loss: 0.0566, Val Loss: 0.2527, Val Accuracy: 0.9229268292682927\n",
            "Epoch 27/30, Train Loss: 0.0374, Val Loss: 0.2066, Val Accuracy: 0.9434146341463414\n",
            "Epoch 28/30, Train Loss: 0.0289, Val Loss: 0.3176, Val Accuracy: 0.8907317073170732\n",
            "Epoch 29/30, Train Loss: 0.0210, Val Loss: 0.2306, Val Accuracy: 0.937560975609756\n",
            "Epoch 30/30, Train Loss: 0.0145, Val Loss: 0.2014, Val Accuracy: 0.9463414634146341\n"
          ]
        }
      ],
      "source": [
        "best_val_loss = float('inf')\n",
        "train_losses = []\n",
        "val_losses = []\n",
        "val_accuracies = []\n",
        "all_preds = []\n",
        "all_labels = []\n",
        "num_epochs=30\n",
        "\n",
        "for epoch in range(num_epochs):\n",
        "    model.train()\n",
        "    train_loss = 0.0\n",
        "    for images, labels in train_loader:\n",
        "        images, labels = images.to(device), labels.to(device)\n",
        "        optimizer.zero_grad()\n",
        "        outputs = model(images)\n",
        "        loss = criterion(outputs, labels)\n",
        "        loss.backward()\n",
        "        optimizer.step()\n",
        "        train_loss += loss.item() * images.size(0)\n",
        "\n",
        "    model.eval()\n",
        "    val_loss = 0.0\n",
        "    val_corrects = 0\n",
        "    with torch.no_grad():\n",
        "        for images, labels in val_loader:\n",
        "            images, labels = images.to(device), labels.to(device)\n",
        "            outputs = model(images)\n",
        "            loss = criterion(outputs, labels)\n",
        "            val_loss += loss.item() * images.size(0)\n",
        "            _, preds = torch.max(outputs, 1)\n",
        "            val_corrects += torch.sum(preds == labels.data)\n",
        "            all_preds.extend(preds.view(-1).cpu().numpy())\n",
        "            all_labels.extend(labels.view(-1).cpu().numpy())\n",
        "\n",
        "    train_loss = train_loss / len(train_loader.dataset)\n",
        "    val_loss = val_loss / len(val_loader.dataset)\n",
        "    val_accuracy = val_corrects.double() / len(val_loader.dataset)\n",
        "\n",
        "    train_losses.append(train_loss)\n",
        "    val_losses.append(val_loss)\n",
        "    val_accuracies.append(val_accuracy)\n",
        "\n",
        "    print(f\"Epoch {epoch+1}/{num_epochs}, Train Loss: {train_loss:.4f}, Val Loss: {val_loss:.4f}, Val Accuracy: {val_accuracy}\")"
      ]
    },
    {
      "cell_type": "markdown",
      "id": "e6d4dc3e",
      "metadata": {
        "papermill": {
          "duration": 0.012227,
          "end_time": "2024-02-24T03:30:58.342318",
          "exception": false,
          "start_time": "2024-02-24T03:30:58.330091",
          "status": "completed"
        },
        "tags": [],
        "id": "e6d4dc3e"
      },
      "source": [
        "# 6. Plots"
      ]
    },
    {
      "cell_type": "code",
      "execution_count": null,
      "id": "295f736b",
      "metadata": {
        "execution": {
          "iopub.execute_input": "2024-02-24T03:30:58.367377Z",
          "iopub.status.busy": "2024-02-24T03:30:58.367092Z",
          "iopub.status.idle": "2024-02-24T03:30:58.606422Z",
          "shell.execute_reply": "2024-02-24T03:30:58.605503Z"
        },
        "papermill": {
          "duration": 0.253987,
          "end_time": "2024-02-24T03:30:58.608309",
          "exception": false,
          "start_time": "2024-02-24T03:30:58.354322",
          "status": "completed"
        },
        "tags": [],
        "id": "295f736b",
        "colab": {
          "base_uri": "https://localhost:8080/",
          "height": 564
        },
        "outputId": "e9a5d425-90b4-49a3-d598-9ff071b4c6f9"
      },
      "outputs": [
        {
          "output_type": "display_data",
          "data": {
            "text/plain": [
              "<Figure size 1000x600 with 1 Axes>"
            ],
            "image/png": "[encoded data removed]"
          },
          "metadata": {}
        }
      ],
      "source": [
        "plt.figure(figsize=(10, 6))\n",
        "plt.plot(train_losses, label='Training Loss')\n",
        "plt.plot(val_losses, label='Validation Loss')\n",
        "plt.title(\"Training and Validation Losses per Epoch\")\n",
        "plt.xlabel('Epochs')\n",
        "plt.ylabel('Loss')\n",
        "plt.legend()\n",
        "plt.show()"
      ]
    },
    {
      "cell_type": "code",
      "execution_count": null,
      "id": "dcd5dfbe",
      "metadata": {
        "execution": {
          "iopub.execute_input": "2024-02-24T03:30:58.635333Z",
          "iopub.status.busy": "2024-02-24T03:30:58.635047Z",
          "iopub.status.idle": "2024-02-24T03:30:58.639906Z",
          "shell.execute_reply": "2024-02-24T03:30:58.639244Z"
        },
        "papermill": {
          "duration": 0.020321,
          "end_time": "2024-02-24T03:30:58.641797",
          "exception": false,
          "start_time": "2024-02-24T03:30:58.621476",
          "status": "completed"
        },
        "tags": [],
        "id": "dcd5dfbe"
      },
      "outputs": [],
      "source": [
        "acc=[]\n",
        "for i in val_accuracies:\n",
        "    acc.append(i.cpu().data.numpy())"
      ]
    },
    {
      "cell_type": "code",
      "execution_count": null,
      "id": "a33d56bb",
      "metadata": {
        "execution": {
          "iopub.execute_input": "2024-02-24T03:30:58.668386Z",
          "iopub.status.busy": "2024-02-24T03:30:58.667754Z",
          "iopub.status.idle": "2024-02-24T03:30:58.893009Z",
          "shell.execute_reply": "2024-02-24T03:30:58.892230Z"
        },
        "papermill": {
          "duration": 0.24052,
          "end_time": "2024-02-24T03:30:58.894976",
          "exception": false,
          "start_time": "2024-02-24T03:30:58.654456",
          "status": "completed"
        },
        "tags": [],
        "id": "a33d56bb",
        "colab": {
          "base_uri": "https://localhost:8080/",
          "height": 564
        },
        "outputId": "d6506eb0-91e7-4aa5-e279-d8ff93a5f4e6"
      },
      "outputs": [
        {
          "output_type": "display_data",
          "data": {
            "text/plain": [
              "<Figure size 1000x600 with 1 Axes>"
            ],
            "image/png": "[encoded data removed]"
          },
          "metadata": {}
        }
      ],
      "source": [
        "plt.figure(figsize=(10, 6))\n",
        "plt.plot(acc, label='Validation Accuracy')\n",
        "plt.title(\"Validation Accuracy per Epoch\")\n",
        "plt.xlabel('Epochs')\n",
        "plt.ylabel('Accuracy')\n",
        "plt.legend()\n",
        "plt.show()"
      ]
    },
    {
      "cell_type": "code",
      "execution_count": null,
      "id": "7e524549",
      "metadata": {
        "execution": {
          "iopub.execute_input": "2024-02-24T03:30:58.923075Z",
          "iopub.status.busy": "2024-02-24T03:30:58.922423Z",
          "iopub.status.idle": "2024-02-24T03:30:58.927320Z",
          "shell.execute_reply": "2024-02-24T03:30:58.926514Z"
        },
        "papermill": {
          "duration": 0.020733,
          "end_time": "2024-02-24T03:30:58.929099",
          "exception": false,
          "start_time": "2024-02-24T03:30:58.908366",
          "status": "completed"
        },
        "tags": [],
        "id": "7e524549"
      },
      "outputs": [],
      "source": [
        "def pred_class(img):\n",
        "    img_tens = test_transform(img)\n",
        "    img_im = img_tens.unsqueeze(0).to(device)\n",
        "    uinput = Variable(img_im)\n",
        "    uinput = uinput.to(device)\n",
        "    out = model(uinput)\n",
        "\n",
        "    index = out.data.cpu().numpy().argmax()\n",
        "    return index"
      ]
    },
    {
      "cell_type": "code",
      "execution_count": null,
      "id": "ef9c4f4f",
      "metadata": {
        "execution": {
          "iopub.execute_input": "2024-02-24T03:30:58.957748Z",
          "iopub.status.busy": "2024-02-24T03:30:58.957509Z",
          "iopub.status.idle": "2024-02-24T03:30:58.964196Z",
          "shell.execute_reply": "2024-02-24T03:30:58.963436Z"
        },
        "papermill": {
          "duration": 0.023688,
          "end_time": "2024-02-24T03:30:58.965999",
          "exception": false,
          "start_time": "2024-02-24T03:30:58.942311",
          "status": "completed"
        },
        "tags": [],
        "id": "ef9c4f4f",
        "colab": {
          "base_uri": "https://localhost:8080/"
        },
        "outputId": "13530ade-81c9-4410-ee7a-aad257e5da0a"
      },
      "outputs": [
        {
          "output_type": "execute_result",
          "data": {
            "text/plain": [
              "{0: 'test', 1: 'train'}"
            ]
          },
          "metadata": {},
          "execution_count": 24
        }
      ],
      "source": [
        "outcomes = os.listdir('/content/Alzheimer_s Dataset')\n",
        "classes = {k:v for k , v in enumerate(sorted(outcomes))}\n",
        "classes\n",
        "#model.eval()"
      ]
    }
  ],
  "metadata": {
    "kaggle": {
      "accelerator": "nvidiaTeslaT4",
      "dataSources": [
        {
          "datasetId": 457093,
          "sourceId": 861496,
          "sourceType": "datasetVersion"
        }
      ],
      "dockerImageVersionId": 30648,
      "isGpuEnabled": true,
      "isInternetEnabled": true,
      "language": "python",
      "sourceType": "notebook"
    },
    "kernelspec": {
      "display_name": "Python 3",
      "name": "python3"
    },
    "language_info": {
      "codemirror_mode": {
        "name": "ipython",
        "version": 3
      },
      "file_extension": ".py",
      "mimetype": "text/x-python",
      "name": "python",
      "nbconvert_exporter": "python",
      "pygments_lexer": "ipython3",
      "version": "3.10.13"
    },
    "papermill": {
      "default_parameters": {},
      "duration": 279.006627,
      "end_time": "2024-02-24T03:31:05.344554",
      "environment_variables": {},
      "exception": null,
      "input_path": "__notebook__.ipynb",
      "output_path": "__notebook__.ipynb",
      "parameters": {},
      "start_time": "2024-02-24T03:26:26.337927",
      "version": "2.5.0"
    },
    "colab": {
      "provenance": [],
      "gpuType": "T4",
      "include_colab_link": true
    },
    "accelerator": "GPU"
  },
  "nbformat": 4,
  "nbformat_minor": 5
}